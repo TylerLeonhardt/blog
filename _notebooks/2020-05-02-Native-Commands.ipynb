{
    "metadata": {
        "kernelspec": {
            "name": ".net-powershell",
            "display_name": ".NET (PowerShell)"
        },
        "language_info": {
            "name": "PowerShell",
            "version": "7.0",
            "mimetype": "text/x-powershell",
            "file_extension": ".ps1",
            "pygments_lexer": "powershell"
        }
    },
    "nbformat_minor": 2,
    "nbformat": 4,
    "cells": [
        {
            "cell_type": "markdown",
            "source": [
                "# Move your onboarding docs/troubleshooting guides to Notebooks - `kubctl` edition\n",
                "> A blog post (and example Notebook) about using PowerShell Notebooks for your onboarding docs\n",
                "\n",
                "- toc: true\n",
                "- badges: true\n",
                "- comments: true\n",
                "- image: images/k8s.png\n",
                "- categories: [jupyter, powershell, kubernetes, kubectl]"
            ],
            "metadata": {
                "azdata_cell_guid": "d03930c7-f0ee-419e-a03b-57a13aa7fb3f"
            }
        },
        {
            "cell_type": "markdown",
            "source": [
                "## The goal - Leveraging [PowerShell](https://docs.microsoft.com/powershell/scripting/overview) doesn't mean you have to use PowerShell commands\n",
                "\n",
                "[PowerShell](https://docs.microsoft.com/powershell/scripting/overview) is a _shell_ just like `bash`, `zsh`, `fish`, etc. Which means it can also be used for running native commands or standalone executables... like `kubectl`.\n",
                "\n",
                "This post is all about using Notebooks as a form of documentation. To do this, I've taken an actual [Kubernetes docs page](https://kubernetes.io/docs/tasks/debug-application-cluster/debug-application-introspection/#example-debugging-pending-pods) and converted it into a Notebook.\n",
                "\n",
                "**You should be able to download this ipynb file, open it and follow along by clicking play next to each code block (assuming you have the prereqs).**\n",
                "\n",
                "Here's a screenshot of this Notebook in Azure Data Studio:\n",
                "![screenshot of Azure Data Studio](ads.png)"
            ],
            "metadata": {
                "azdata_cell_guid": "90dd11cc-722e-4a64-b90a-a0eba97c943f"
            }
        },
        {
            "cell_type": "markdown",
            "source": [
                "## Prereqs\n",
                "\n",
                "* [Jupyter](https://jupyter.readthedocs.io/en/latest/projects/content-projects.html#installation) and a jupyter client - I used [Azure Data Studio (insiders)](https://docs.microsoft.com/en-us/sql/azure-data-studio/download-azure-data-studio?view=sql-server-ver15#download-insiders-build-of-azure-data-studio) for this but you could use [Jupyter Lab](https://github.com/jupyterlab/jupyterlab#getting-started) or [nteract](https://nteract.io/). Those are great too!\n",
                "* [.NET Interactive](https://github.com/dotnet/interactive#how-to-install-net-interactive) - A .NET Jupyter Kernel that supports C#, F# and PowerShell\n",
                "    * This comes with a PowerShell runtime so you don't even have to install PowerShell on your machine... just the kernel\n",
                "    * It's cross-platform - Windows, macOS, and Linux\n",
                "\n",
                "Since this article is about Kubernetes, you should also have a Kubernetes cluster and `kubectl` available.\n",
                "\n",
                "### Install `powershell-yaml`\n",
                "\n",
                "We're also going to install this PowerShell for working with YAML. It is solely used to mutate the YAML example. You don't need this in the wild... but it helps!\n",
                "\n",
                "What's nice is that we can simply install it with a code cell like so:\n",
                ""
            ],
            "metadata": {
                "azdata_cell_guid": "c0b43cbb-ccc1-49cd-baf8-a6c736ad169e"
            }
        },
        {
            "cell_type": "code",
            "source": [
                "Install-Module -Name powershell-yaml"
            ],
            "metadata": {
                "azdata_cell_guid": "471b6a2c-bada-42d0-8ba6-db9d33cb062b"
            },
            "outputs": [],
            "execution_count": null
        },
        {
            "cell_type": "markdown",
            "source": [
                "## Now the \"demo\"...\n",
                "\n",
                "The rest of this article comes straight from [this markdown file](https://github.com/kubernetes/website/blob/master/content/en/docs/tasks/debug-application-cluster/debug-application-introspection.md) that I've converted into a Notebook by taking the code blocks and turning them into Notebook code cells.\n",
                "\n",
                "## Using `kubectl describe pod` to fetch details about pods\n",
                "\n",
                "For this example we'll use a Deployment to create two pods.\n",
                "\n",
                "> application/nginx-with-request.yaml\n",
                "\n",
                "```\n",
                "apiVersion: apps/v1\n",
                "kind: Deployment\n",
                "metadata:\n",
                "  name: nginx-deployment\n",
                "spec:\n",
                "  selector:\n",
                "    matchLabels:\n",
                "      app: nginx\n",
                "  replicas: 2\n",
                "  template:\n",
                "    metadata:\n",
                "      labels:\n",
                "        app: nginx\n",
                "    spec:\n",
                "      containers:\n",
                "      - name: nginx\n",
                "        image: nginx\n",
                "        resources:\n",
                "          limits:\n",
                "            memory: \"128Mi\"\n",
                "            cpu: \"500m\"\n",
                "        ports:\n",
                "        - containerPort: 80\n",
                "```\n",
                "\n",
                "Create deployment by running following command:\n",
                "\n",
                ""
            ],
            "metadata": {
                "azdata_cell_guid": "231f4643-c725-4da5-b4a6-63199ea593c7"
            }
        },
        {
            "cell_type": "code",
            "source": [
                "kubectl apply -f https://k8s.io/examples/application/nginx-with-request.yaml"
            ],
            "metadata": {
                "azdata_cell_guid": "2257074d-08c7-4956-af3c-8601f8765fd1"
            },
            "outputs": [
                {
                    "output_type": "stream",
                    "name": "stdout",
                    "text": "deployment.apps/nginx-deployment created\n"
                }
            ],
            "execution_count": 1
        },
        {
            "cell_type": "markdown",
            "source": [
                "Check pod status by following command:"
            ],
            "metadata": {
                "azdata_cell_guid": "eb94c134-a2cd-40bb-8d1d-4da9867ae73a"
            }
        },
        {
            "cell_type": "code",
            "source": [
                "kubectl get pods"
            ],
            "metadata": {
                "azdata_cell_guid": "5c8fcdfe-74ce-4069-b940-37751748091e"
            },
            "outputs": [
                {
                    "output_type": "stream",
                    "name": "stdout",
                    "text": "NAME                               READY   STATUS    RESTARTS   AGE\n"
                },
                {
                    "output_type": "stream",
                    "name": "stdout",
                    "text": "nginx-deployment-8df4655b6-6cznf   1/1     Running   0          22s\n"
                },
                {
                    "output_type": "stream",
                    "name": "stdout",
                    "text": "nginx-deployment-8df4655b6-nzw89   1/1     Running   0          22s\n"
                }
            ],
            "execution_count": 2
        },
        {
            "cell_type": "markdown",
            "source": [
                "We can retrieve a lot more information about each of these pods using `kubectl describe pod`. For example:"
            ],
            "metadata": {
                "azdata_cell_guid": "539d9799-509d-4349-a245-900e9074c0c0"
            }
        },
        {
            "cell_type": "code",
            "source": [
                "# Get the Pod name\n",
                "$result = kubectl get pods -o json | ConvertFrom-Json\n",
                "$podName = $result.items[0].metadata.name\n",
                "\n",
                "kubectl describe pod $podName"
            ],
            "metadata": {
                "azdata_cell_guid": "4258e4a8-7351-46e0-9378-eecb1cf5775c",
                "tags": []
            },
            "outputs": [
                {
                    "output_type": "stream",
                    "name": "stdout",
                    "text": "Name:           nginx-deployment-8df4655b6-6cznf\n"
                },
                {
                    "output_type": "stream",
                    "name": "stdout",
                    "text": "Namespace:      default\n"
                },
                {
                    "output_type": "stream",
                    "name": "stdout",
                    "text": "Priority:       0\n"
                },
                {
                    "output_type": "stream",
                    "name": "stdout",
                    "text": "Node:           docker-desktop/192.168.65.3\n"
                },
                {
                    "output_type": "stream",
                    "name": "stdout",
                    "text": "Start Time:     Sat, 02 May 2020 17:55:46 -0700\n"
                },
                {
                    "output_type": "stream",
                    "name": "stdout",
                    "text": "Labels:         app=nginx\n"
                },
                {
                    "output_type": "stream",
                    "name": "stdout",
                    "text": "                pod-template-hash=8df4655b6\n"
                },
                {
                    "output_type": "stream",
                    "name": "stdout",
                    "text": "Annotations:    <none>\n"
                },
                {
                    "output_type": "stream",
                    "name": "stdout",
                    "text": "Status:         Running\n"
                },
                {
                    "output_type": "stream",
                    "name": "stdout",
                    "text": "IP:             10.1.0.142\n"
                },
                {
                    "output_type": "stream",
                    "name": "stdout",
                    "text": "Controlled By:  ReplicaSet/nginx-deployment-8df4655b6\n"
                },
                {
                    "output_type": "stream",
                    "name": "stdout",
                    "text": "Containers:\n"
                },
                {
                    "output_type": "stream",
                    "name": "stdout",
                    "text": "  nginx:\n"
                },
                {
                    "output_type": "stream",
                    "name": "stdout",
                    "text": "    Container ID:   docker://76faabd5f8cdc6bad07dc188be00b97c790dd84db360449c2e1c5fbb2005981d\n"
                },
                {
                    "output_type": "stream",
                    "name": "stdout",
                    "text": "    Image:          nginx\n"
                },
                {
                    "output_type": "stream",
                    "name": "stdout",
                    "text": "    Image ID:       docker-pullable://nginx@sha256:86ae264c3f4acb99b2dee4d0098c40cb8c46dcf9e1148f05d3a51c4df6758c12\n"
                },
                {
                    "output_type": "stream",
                    "name": "stdout",
                    "text": "    Port:           80/TCP\n"
                },
                {
                    "output_type": "stream",
                    "name": "stdout",
                    "text": "    Host Port:      0/TCP\n"
                },
                {
                    "output_type": "stream",
                    "name": "stdout",
                    "text": "    State:          Running\n"
                },
                {
                    "output_type": "stream",
                    "name": "stdout",
                    "text": "      Started:      Sat, 02 May 2020 17:55:54 -0700\n"
                },
                {
                    "output_type": "stream",
                    "name": "stdout",
                    "text": "    Ready:          True\n"
                },
                {
                    "output_type": "stream",
                    "name": "stdout",
                    "text": "    Restart Count:  0\n"
                },
                {
                    "output_type": "stream",
                    "name": "stdout",
                    "text": "    Limits:\n"
                },
                {
                    "output_type": "stream",
                    "name": "stdout",
                    "text": "      cpu:     500m\n"
                },
                {
                    "output_type": "stream",
                    "name": "stdout",
                    "text": "      memory:  128Mi\n"
                },
                {
                    "output_type": "stream",
                    "name": "stdout",
                    "text": "    Requests:\n"
                },
                {
                    "output_type": "stream",
                    "name": "stdout",
                    "text": "      cpu:        500m\n"
                },
                {
                    "output_type": "stream",
                    "name": "stdout",
                    "text": "      memory:     128Mi\n"
                },
                {
                    "output_type": "stream",
                    "name": "stdout",
                    "text": "    Environment:  <none>\n"
                },
                {
                    "output_type": "stream",
                    "name": "stdout",
                    "text": "    Mounts:\n"
                },
                {
                    "output_type": "stream",
                    "name": "stdout",
                    "text": "      /var/run/secrets/kubernetes.io/serviceaccount from default-token-v495d (ro)\n"
                },
                {
                    "output_type": "stream",
                    "name": "stdout",
                    "text": "Conditions:\n"
                },
                {
                    "output_type": "stream",
                    "name": "stdout",
                    "text": "  Type              Status\n"
                },
                {
                    "output_type": "stream",
                    "name": "stdout",
                    "text": "  Initialized       True \n"
                },
                {
                    "output_type": "stream",
                    "name": "stdout",
                    "text": "  Ready             True \n"
                },
                {
                    "output_type": "stream",
                    "name": "stdout",
                    "text": "  ContainersReady   True \n"
                },
                {
                    "output_type": "stream",
                    "name": "stdout",
                    "text": "  PodScheduled      True \n"
                },
                {
                    "output_type": "stream",
                    "name": "stdout",
                    "text": "Volumes:\n"
                },
                {
                    "output_type": "stream",
                    "name": "stdout",
                    "text": "  default-token-v495d:\n"
                },
                {
                    "output_type": "stream",
                    "name": "stdout",
                    "text": "    Type:        Secret (a volume populated by a Secret)\n"
                },
                {
                    "output_type": "stream",
                    "name": "stdout",
                    "text": "    SecretName:  default-token-v495d\n"
                },
                {
                    "output_type": "stream",
                    "name": "stdout",
                    "text": "    Optional:    false\n"
                },
                {
                    "output_type": "stream",
                    "name": "stdout",
                    "text": "QoS Class:       Guaranteed\n"
                },
                {
                    "output_type": "stream",
                    "name": "stdout",
                    "text": "Node-Selectors:  <none>\n"
                },
                {
                    "output_type": "stream",
                    "name": "stdout",
                    "text": "Tolerations:     node.kubernetes.io/not-ready:NoExecute for 300s\n"
                },
                {
                    "output_type": "stream",
                    "name": "stdout",
                    "text": "                 node.kubernetes.io/unreachable:NoExecute for 300s\n"
                },
                {
                    "output_type": "stream",
                    "name": "stdout",
                    "text": "Events:\n"
                },
                {
                    "output_type": "stream",
                    "name": "stdout",
                    "text": "  Type    Reason     Age    From                     Message\n"
                },
                {
                    "output_type": "stream",
                    "name": "stdout",
                    "text": "  ----    ------     ----   ----                     -------\n"
                },
                {
                    "output_type": "stream",
                    "name": "stdout",
                    "text": "  Normal  Scheduled  3m51s  default-scheduler        Successfully assigned default/nginx-deployment-8df4655b6-6cznf to docker-desktop\n"
                },
                {
                    "output_type": "stream",
                    "name": "stdout",
                    "text": "  Normal  Pulling    3m50s  kubelet, docker-desktop  Pulling image \"nginx\"\n"
                },
                {
                    "output_type": "stream",
                    "name": "stdout",
                    "text": "  Normal  Pulled     3m43s  kubelet, docker-desktop  Successfully pulled image \"nginx\"\n"
                },
                {
                    "output_type": "stream",
                    "name": "stdout",
                    "text": "  Normal  Created    3m43s  kubelet, docker-desktop  Created container nginx\n"
                },
                {
                    "output_type": "stream",
                    "name": "stdout",
                    "text": "  Normal  Started    3m43s  kubelet, docker-desktop  Started container nginx\n"
                }
            ],
            "execution_count": 7
        },
        {
            "cell_type": "markdown",
            "source": [
                "Here you can see configuration information about the container(s) and Pod (labels, resource requirements, etc.), as well as status information about the container(s) and Pod (state, readiness, restart count, events, etc.).\n",
                "\n",
                "The container state is one of Waiting, Running, or Terminated. Depending on the state, additional information will be provided -- here you can see that for a container in Running state, the system tells you when the container started.\n",
                "\n",
                "Ready tells you whether the container passed its last readiness probe. (In this case, the container does not have a readiness probe configured; the container is assumed to be ready if no readiness probe is configured.)\n",
                "\n",
                "Restart Count tells you how many times the container has been restarted; this information can be useful for detecting crash loops in containers that are configured with a restart policy of 'always.'\n",
                "\n",
                "Currently the only Condition associated with a Pod is the binary Ready condition, which indicates that the pod is able to service requests and should be added to the load balancing pools of all matching services.\n",
                "\n",
                "Lastly, you see a log of recent events related to your Pod. The system compresses multiple identical events by indicating the first and last time it was seen and the number of times it was seen. \"From\" indicates the component that is logging the event, \"SubobjectPath\" tells you which object (e.g. container within the pod) is being referred to, and \"Reason\" and \"Message\" tell you what happened.\n",
                "\n",
                "## Example: debugging Pending Pods\n",
                "\n",
                "A common scenario that you can detect using events is when you've created a Pod that won't fit on any node. For example, the Pod might request more resources than are free on any node, or it might specify a label selector that doesn't match any nodes. Let's say we created the previous Deployment with 5 replicas (instead of 2) and requesting 600 millicores instead of 500, on a four-node cluster where each (virtual) machine has 1 CPU. In that case one of the Pods will not be able to schedule. (Note that because of the cluster addon pods such as fluentd, skydns, etc., that run on each node, if we requested 1000 millicores then none of the Pods would be able to schedule.)\n",
                "\n",
                "Let's modify the above example to make this happen...\n",
                ""
            ],
            "metadata": {
                "azdata_cell_guid": "90890f42-181b-4402-b49f-77010c071bf2"
            }
        },
        {
            "cell_type": "code",
            "source": [
                "# Make changes to YAML\n",
                "$yaml = Invoke-RestMethod https://k8s.io/examples/application/nginx-with-request.yaml | ConvertFrom-Yaml\n",
                "$yaml.spec.replicas = 5\n",
                "\n",
                "# NOTE: for my Docker for Mac setup, 2000m is what it took to get some Pending.\n",
                "$yaml.spec.template.spec.containers[0].resources.limits.cpu = \"2000m\"\n",
                "\n",
                "# Apply those\n",
                "$yaml | ConvertTo-Yaml | kubectl apply -f -"
            ],
            "metadata": {
                "azdata_cell_guid": "f81c6b51-613a-45d2-8480-7a2b0b6c845d"
            },
            "outputs": [
                {
                    "output_type": "stream",
                    "name": "stdout",
                    "text": "deployment.apps/nginx-deployment configured\n"
                }
            ],
            "execution_count": 44
        },
        {
            "cell_type": "markdown",
            "source": [
                "Ok let's see how our pods are doing..."
            ],
            "metadata": {
                "azdata_cell_guid": "006af91a-ef2f-4abd-89fd-63e47dec43a2"
            }
        },
        {
            "cell_type": "code",
            "source": [
                "kubectl get pods"
            ],
            "metadata": {
                "azdata_cell_guid": "d2ac1dd8-aa9f-4ddc-aa39-e63830fc8742"
            },
            "outputs": [
                {
                    "output_type": "stream",
                    "name": "stdout",
                    "text": "NAME                                READY   STATUS    RESTARTS   AGE\n"
                },
                {
                    "output_type": "stream",
                    "name": "stdout",
                    "text": "nginx-deployment-6c4956f7bc-b8pg5   0/1     Pending   0          109s\n"
                },
                {
                    "output_type": "stream",
                    "name": "stdout",
                    "text": "nginx-deployment-6c4956f7bc-mb5pc   1/1     Running   0          2m4s\n"
                },
                {
                    "output_type": "stream",
                    "name": "stdout",
                    "text": "nginx-deployment-6c4956f7bc-nkx2r   0/1     Pending   0          2m4s\n"
                },
                {
                    "output_type": "stream",
                    "name": "stdout",
                    "text": "nginx-deployment-6c4956f7bc-rqhdw   1/1     Running   0          2m4s\n"
                },
                {
                    "output_type": "stream",
                    "name": "stdout",
                    "text": "nginx-deployment-6c4956f7bc-zt92l   0/1     Pending   0          2m1s\n"
                },
                {
                    "output_type": "stream",
                    "name": "stdout",
                    "text": "nginx-deployment-bc849747-269t7     1/1     Running   0          2m35s\n"
                },
                {
                    "output_type": "stream",
                    "name": "stdout",
                    "text": "nginx-deployment-bc849747-whpvx     1/1     Running   0          2m35s\n"
                }
            ],
            "execution_count": 64
        },
        {
            "cell_type": "markdown",
            "source": [
                "To find out why all of the pods are not running, we can use `kubectl describe pod` on a \"pending\" Pod and look at its events:"
            ],
            "metadata": {
                "azdata_cell_guid": "78d31111-8c71-44bb-9dea-5d3d7166f744"
            }
        },
        {
            "cell_type": "code",
            "source": [
                "# This just grabs the first 'Pending' pod's name\n",
                "$result = kubectl get pods --field-selector status.phase=Pending -o json | ConvertFrom-Json\n",
                "$podName = $result.items[0].metadata.name\n",
                "\n",
                "kubectl describe pod $podName"
            ],
            "metadata": {
                "azdata_cell_guid": "279aa2c9-1767-445a-b320-2e31158029fd"
            },
            "outputs": [
                {
                    "output_type": "stream",
                    "name": "stdout",
                    "text": "Name:           nginx-deployment-6c4956f7bc-b8pg5\n"
                },
                {
                    "output_type": "stream",
                    "name": "stdout",
                    "text": "Namespace:      default\n"
                },
                {
                    "output_type": "stream",
                    "name": "stdout",
                    "text": "Priority:       0\n"
                },
                {
                    "output_type": "stream",
                    "name": "stdout",
                    "text": "Node:           <none>\n"
                },
                {
                    "output_type": "stream",
                    "name": "stdout",
                    "text": "Labels:         app=nginx\n"
                },
                {
                    "output_type": "stream",
                    "name": "stdout",
                    "text": "                pod-template-hash=6c4956f7bc\n"
                },
                {
                    "output_type": "stream",
                    "name": "stdout",
                    "text": "Annotations:    <none>\n"
                },
                {
                    "output_type": "stream",
                    "name": "stdout",
                    "text": "Status:         Pending\n"
                },
                {
                    "output_type": "stream",
                    "name": "stdout",
                    "text": "IP:             \n"
                },
                {
                    "output_type": "stream",
                    "name": "stdout",
                    "text": "Controlled By:  ReplicaSet/nginx-deployment-6c4956f7bc\n"
                },
                {
                    "output_type": "stream",
                    "name": "stdout",
                    "text": "Containers:\n"
                },
                {
                    "output_type": "stream",
                    "name": "stdout",
                    "text": "  nginx:\n"
                },
                {
                    "output_type": "stream",
                    "name": "stdout",
                    "text": "    Image:      nginx\n"
                },
                {
                    "output_type": "stream",
                    "name": "stdout",
                    "text": "    Port:       80/TCP\n"
                },
                {
                    "output_type": "stream",
                    "name": "stdout",
                    "text": "    Host Port:  0/TCP\n"
                },
                {
                    "output_type": "stream",
                    "name": "stdout",
                    "text": "    Limits:\n"
                },
                {
                    "output_type": "stream",
                    "name": "stdout",
                    "text": "      cpu:     2\n"
                },
                {
                    "output_type": "stream",
                    "name": "stdout",
                    "text": "      memory:  128Mi\n"
                },
                {
                    "output_type": "stream",
                    "name": "stdout",
                    "text": "    Requests:\n"
                },
                {
                    "output_type": "stream",
                    "name": "stdout",
                    "text": "      cpu:        2\n"
                },
                {
                    "output_type": "stream",
                    "name": "stdout",
                    "text": "      memory:     128Mi\n"
                },
                {
                    "output_type": "stream",
                    "name": "stdout",
                    "text": "    Environment:  <none>\n"
                },
                {
                    "output_type": "stream",
                    "name": "stdout",
                    "text": "    Mounts:\n"
                },
                {
                    "output_type": "stream",
                    "name": "stdout",
                    "text": "      /var/run/secrets/kubernetes.io/serviceaccount from default-token-v495d (ro)\n"
                },
                {
                    "output_type": "stream",
                    "name": "stdout",
                    "text": "Conditions:\n"
                },
                {
                    "output_type": "stream",
                    "name": "stdout",
                    "text": "  Type           Status\n"
                },
                {
                    "output_type": "stream",
                    "name": "stdout",
                    "text": "  PodScheduled   False \n"
                },
                {
                    "output_type": "stream",
                    "name": "stdout",
                    "text": "Volumes:\n"
                },
                {
                    "output_type": "stream",
                    "name": "stdout",
                    "text": "  default-token-v495d:\n"
                },
                {
                    "output_type": "stream",
                    "name": "stdout",
                    "text": "    Type:        Secret (a volume populated by a Secret)\n"
                },
                {
                    "output_type": "stream",
                    "name": "stdout",
                    "text": "    SecretName:  default-token-v495d\n"
                },
                {
                    "output_type": "stream",
                    "name": "stdout",
                    "text": "    Optional:    false\n"
                },
                {
                    "output_type": "stream",
                    "name": "stdout",
                    "text": "QoS Class:       Guaranteed\n"
                },
                {
                    "output_type": "stream",
                    "name": "stdout",
                    "text": "Node-Selectors:  <none>\n"
                },
                {
                    "output_type": "stream",
                    "name": "stdout",
                    "text": "Tolerations:     node.kubernetes.io/not-ready:NoExecute for 300s\n"
                },
                {
                    "output_type": "stream",
                    "name": "stdout",
                    "text": "                 node.kubernetes.io/unreachable:NoExecute for 300s\n"
                },
                {
                    "output_type": "stream",
                    "name": "stdout",
                    "text": "Events:\n"
                },
                {
                    "output_type": "stream",
                    "name": "stdout",
                    "text": "  Type     Reason            Age                 From               Message\n"
                },
                {
                    "output_type": "stream",
                    "name": "stdout",
                    "text": "  ----     ------            ----                ----               -------\n"
                },
                {
                    "output_type": "stream",
                    "name": "stdout",
                    "text": "  Warning  FailedScheduling  68s (x14 over 19m)  default-scheduler  0/1 nodes are available: 1 Insufficient cpu.\n"
                }
            ],
            "execution_count": 68
        },
        {
            "cell_type": "markdown",
            "source": [
                "Here you can see the event generated by the scheduler saying that the Pod failed to schedule for reason `FailedScheduling` (and possibly others).  The message tells us that there were not enough resources for the Pod on any of the nodes.\n",
                "\n",
                "To correct this situation, you can use `kubectl scale` to update your Deployment to specify four or fewer replicas. (Or you could just leave the one Pod pending, which is harmless.)\n",
                "\n",
                "Events such as the ones you saw at the end of `kubectl describe pod` are persisted in etcd and provide high-level information on what is happening in the cluster. To list all events you can use"
            ],
            "metadata": {
                "azdata_cell_guid": "983b840e-0ebc-477d-b0cc-994fa916b673"
            }
        },
        {
            "cell_type": "code",
            "source": [
                "kubectl get events --field-selector reason=FailedScheduling"
            ],
            "metadata": {
                "azdata_cell_guid": "ba6bbf5a-feec-4846-bcc9-bd2056ae331f",
                "tags": []
            },
            "outputs": [
                {
                    "output_type": "stream",
                    "name": "stdout",
                    "text": "LAST SEEN   TYPE      REASON             OBJECT                                  MESSAGE\n"
                },
                {
                    "output_type": "stream",
                    "name": "stdout",
                    "text": "8s          Warning   FailedScheduling   pod/nginx-deployment-6c4956f7bc-b8pg5   0/1 nodes are available: 1 Insufficient cpu.\n"
                },
                {
                    "output_type": "stream",
                    "name": "stdout",
                    "text": "28m         Warning   FailedScheduling   pod/nginx-deployment-6c4956f7bc-mb5pc   0/1 nodes are available: 1 Insufficient cpu.\n"
                },
                {
                    "output_type": "stream",
                    "name": "stdout",
                    "text": "8s          Warning   FailedScheduling   pod/nginx-deployment-6c4956f7bc-nkx2r   0/1 nodes are available: 1 Insufficient cpu.\n"
                },
                {
                    "output_type": "stream",
                    "name": "stdout",
                    "text": "8s          Warning   FailedScheduling   pod/nginx-deployment-6c4956f7bc-zt92l   0/1 nodes are available: 1 Insufficient cpu.\n"
                },
                {
                    "output_type": "stream",
                    "name": "stdout",
                    "text": "29m         Warning   FailedScheduling   pod/nginx-deployment-bc849747-b87vx     0/1 nodes are available: 1 Insufficient cpu.\n"
                }
            ],
            "execution_count": 74
        },
        {
            "cell_type": "markdown",
            "source": [
                "but you have to remember that events are namespaced. This means that if you're interested in events for some namespaced object (e.g. what happened with Pods in namespace `my-namespace`) you need to explicitly provide a namespace to the command:\n",
                ""
            ],
            "metadata": {
                "azdata_cell_guid": "db808cfd-2ac0-471b-9497-cf90f95f14ba"
            }
        },
        {
            "cell_type": "code",
            "source": [
                "kubectl get events --namespace=my-namespace"
            ],
            "metadata": {
                "azdata_cell_guid": "b6dea723-021c-40a1-a2cc-e7ed9b5d54b0"
            },
            "outputs": [
                {
                    "output_type": "stream",
                    "name": "stdout",
                    "text": "No resources found.\n"
                }
            ],
            "execution_count": 72
        },
        {
            "cell_type": "markdown",
            "source": [
                "To see events from all namespaces, you can use the `--all-namespaces` argument.\n",
                "\n",
                "In addition to `kubectl describe pod`, another way to get extra information about a pod (beyond what is provided by `kubectl get pod`) is to pass the `-o yaml` output format flag to `kubectl get pod`. This will give you, in YAML format, even more information than `kubectl describe pod`--essentially all of the information the system has about the Pod. Here you will see things like annotations (which are key-value metadata without the label restrictions, that is used internally by Kubernetes system components), restart policy, ports, and volumes."
            ],
            "metadata": {
                "azdata_cell_guid": "cc790f59-5e58-43e1-850a-3906c6a68b76"
            }
        },
        {
            "cell_type": "code",
            "source": [
                "kubectl get pod $podName -o yaml\n",
                ""
            ],
            "metadata": {
                "azdata_cell_guid": "733fd1ee-6733-484f-b0bb-f60bff7cbde6"
            },
            "outputs": [
                {
                    "output_type": "stream",
                    "name": "stdout",
                    "text": "apiVersion: v1\n"
                },
                {
                    "output_type": "stream",
                    "name": "stdout",
                    "text": "kind: Pod\n"
                },
                {
                    "output_type": "stream",
                    "name": "stdout",
                    "text": "metadata:\n"
                },
                {
                    "output_type": "stream",
                    "name": "stdout",
                    "text": "  creationTimestamp: \"2020-05-03T01:25:37Z\"\n"
                },
                {
                    "output_type": "stream",
                    "name": "stdout",
                    "text": "  generateName: nginx-deployment-6c4956f7bc-\n"
                },
                {
                    "output_type": "stream",
                    "name": "stdout",
                    "text": "  labels:\n"
                },
                {
                    "output_type": "stream",
                    "name": "stdout",
                    "text": "    app: nginx\n"
                },
                {
                    "output_type": "stream",
                    "name": "stdout",
                    "text": "    pod-template-hash: 6c4956f7bc\n"
                },
                {
                    "output_type": "stream",
                    "name": "stdout",
                    "text": "  name: nginx-deployment-6c4956f7bc-b8pg5\n"
                },
                {
                    "output_type": "stream",
                    "name": "stdout",
                    "text": "  namespace: default\n"
                },
                {
                    "output_type": "stream",
                    "name": "stdout",
                    "text": "  ownerReferences:\n"
                },
                {
                    "output_type": "stream",
                    "name": "stdout",
                    "text": "  - apiVersion: apps/v1\n"
                },
                {
                    "output_type": "stream",
                    "name": "stdout",
                    "text": "    blockOwnerDeletion: true\n"
                },
                {
                    "output_type": "stream",
                    "name": "stdout",
                    "text": "    controller: true\n"
                },
                {
                    "output_type": "stream",
                    "name": "stdout",
                    "text": "    kind: ReplicaSet\n"
                },
                {
                    "output_type": "stream",
                    "name": "stdout",
                    "text": "    name: nginx-deployment-6c4956f7bc\n"
                },
                {
                    "output_type": "stream",
                    "name": "stdout",
                    "text": "    uid: af67aea9-fae6-4368-a264-afc20cf27e2e\n"
                },
                {
                    "output_type": "stream",
                    "name": "stdout",
                    "text": "  resourceVersion: \"2275800\"\n"
                },
                {
                    "output_type": "stream",
                    "name": "stdout",
                    "text": "  selfLink: /api/v1/namespaces/default/pods/nginx-deployment-6c4956f7bc-b8pg5\n"
                },
                {
                    "output_type": "stream",
                    "name": "stdout",
                    "text": "  uid: 6c4f5268-da0b-4abf-8987-5810481adeb3\n"
                },
                {
                    "output_type": "stream",
                    "name": "stdout",
                    "text": "spec:\n"
                },
                {
                    "output_type": "stream",
                    "name": "stdout",
                    "text": "  containers:\n"
                },
                {
                    "output_type": "stream",
                    "name": "stdout",
                    "text": "  - image: nginx\n"
                },
                {
                    "output_type": "stream",
                    "name": "stdout",
                    "text": "    imagePullPolicy: Always\n"
                },
                {
                    "output_type": "stream",
                    "name": "stdout",
                    "text": "    name: nginx\n"
                },
                {
                    "output_type": "stream",
                    "name": "stdout",
                    "text": "    ports:\n"
                },
                {
                    "output_type": "stream",
                    "name": "stdout",
                    "text": "    - containerPort: 80\n"
                },
                {
                    "output_type": "stream",
                    "name": "stdout",
                    "text": "      protocol: TCP\n"
                },
                {
                    "output_type": "stream",
                    "name": "stdout",
                    "text": "    resources:\n"
                },
                {
                    "output_type": "stream",
                    "name": "stdout",
                    "text": "      limits:\n"
                },
                {
                    "output_type": "stream",
                    "name": "stdout",
                    "text": "        cpu: \"2\"\n"
                },
                {
                    "output_type": "stream",
                    "name": "stdout",
                    "text": "        memory: 128Mi\n"
                },
                {
                    "output_type": "stream",
                    "name": "stdout",
                    "text": "      requests:\n"
                },
                {
                    "output_type": "stream",
                    "name": "stdout",
                    "text": "        cpu: \"2\"\n"
                },
                {
                    "output_type": "stream",
                    "name": "stdout",
                    "text": "        memory: 128Mi\n"
                },
                {
                    "output_type": "stream",
                    "name": "stdout",
                    "text": "    terminationMessagePath: /dev/termination-log\n"
                },
                {
                    "output_type": "stream",
                    "name": "stdout",
                    "text": "    terminationMessagePolicy: File\n"
                },
                {
                    "output_type": "stream",
                    "name": "stdout",
                    "text": "    volumeMounts:\n"
                },
                {
                    "output_type": "stream",
                    "name": "stdout",
                    "text": "    - mountPath: /var/run/secrets/kubernetes.io/serviceaccount\n"
                },
                {
                    "output_type": "stream",
                    "name": "stdout",
                    "text": "      name: default-token-v495d\n"
                },
                {
                    "output_type": "stream",
                    "name": "stdout",
                    "text": "      readOnly: true\n"
                },
                {
                    "output_type": "stream",
                    "name": "stdout",
                    "text": "  dnsPolicy: ClusterFirst\n"
                },
                {
                    "output_type": "stream",
                    "name": "stdout",
                    "text": "  enableServiceLinks: true\n"
                },
                {
                    "output_type": "stream",
                    "name": "stdout",
                    "text": "  priority: 0\n"
                },
                {
                    "output_type": "stream",
                    "name": "stdout",
                    "text": "  restartPolicy: Always\n"
                },
                {
                    "output_type": "stream",
                    "name": "stdout",
                    "text": "  schedulerName: default-scheduler\n"
                },
                {
                    "output_type": "stream",
                    "name": "stdout",
                    "text": "  securityContext: {}\n"
                },
                {
                    "output_type": "stream",
                    "name": "stdout",
                    "text": "  serviceAccount: default\n"
                },
                {
                    "output_type": "stream",
                    "name": "stdout",
                    "text": "  serviceAccountName: default\n"
                },
                {
                    "output_type": "stream",
                    "name": "stdout",
                    "text": "  terminationGracePeriodSeconds: 30\n"
                },
                {
                    "output_type": "stream",
                    "name": "stdout",
                    "text": "  tolerations:\n"
                },
                {
                    "output_type": "stream",
                    "name": "stdout",
                    "text": "  - effect: NoExecute\n"
                },
                {
                    "output_type": "stream",
                    "name": "stdout",
                    "text": "    key: node.kubernetes.io/not-ready\n"
                },
                {
                    "output_type": "stream",
                    "name": "stdout",
                    "text": "    operator: Exists\n"
                },
                {
                    "output_type": "stream",
                    "name": "stdout",
                    "text": "    tolerationSeconds: 300\n"
                },
                {
                    "output_type": "stream",
                    "name": "stdout",
                    "text": "  - effect: NoExecute\n"
                },
                {
                    "output_type": "stream",
                    "name": "stdout",
                    "text": "    key: node.kubernetes.io/unreachable\n"
                },
                {
                    "output_type": "stream",
                    "name": "stdout",
                    "text": "    operator: Exists\n"
                },
                {
                    "output_type": "stream",
                    "name": "stdout",
                    "text": "    tolerationSeconds: 300\n"
                },
                {
                    "output_type": "stream",
                    "name": "stdout",
                    "text": "  volumes:\n"
                },
                {
                    "output_type": "stream",
                    "name": "stdout",
                    "text": "  - name: default-token-v495d\n"
                },
                {
                    "output_type": "stream",
                    "name": "stdout",
                    "text": "    secret:\n"
                },
                {
                    "output_type": "stream",
                    "name": "stdout",
                    "text": "      defaultMode: 420\n"
                },
                {
                    "output_type": "stream",
                    "name": "stdout",
                    "text": "      secretName: default-token-v495d\n"
                },
                {
                    "output_type": "stream",
                    "name": "stdout",
                    "text": "status:\n"
                },
                {
                    "output_type": "stream",
                    "name": "stdout",
                    "text": "  conditions:\n"
                },
                {
                    "output_type": "stream",
                    "name": "stdout",
                    "text": "  - lastProbeTime: null\n"
                },
                {
                    "output_type": "stream",
                    "name": "stdout",
                    "text": "    lastTransitionTime: \"2020-05-03T01:25:37Z\"\n"
                },
                {
                    "output_type": "stream",
                    "name": "stdout",
                    "text": "    message: '0/1 nodes are available: 1 Insufficient cpu.'\n"
                },
                {
                    "output_type": "stream",
                    "name": "stdout",
                    "text": "    reason: Unschedulable\n"
                },
                {
                    "output_type": "stream",
                    "name": "stdout",
                    "text": "    status: \"False\"\n"
                },
                {
                    "output_type": "stream",
                    "name": "stdout",
                    "text": "    type: PodScheduled\n"
                },
                {
                    "output_type": "stream",
                    "name": "stdout",
                    "text": "  phase: Pending\n"
                },
                {
                    "output_type": "stream",
                    "name": "stdout",
                    "text": "  qosClass: Guaranteed\n"
                }
            ],
            "execution_count": 73
        },
        {
            "cell_type": "markdown",
            "source": [
                "## The end\n",
                "\n",
                "The rest of the document requires spinning up multiple nodes that I don't need to to right now 😅 I think what I've shown so far should prove my point.\n",
                "\n",
                "## Example repo\n",
                "\n",
                "Here's an example repo of a bunch of Notebooks _and_ a Dockerfile that works on MyBinder (a free sandbox envirnment for you to play in) and locally!\n",
                "\n",
                "https://github.com/TylerLeonhardt/JupyterNotebooks\n",
                "\n",
                "## Remember what the goal of this was\n",
                "\n",
                "You should be able to download this ipynb file, open it in either Jupyter Lab, nteract, or Azure Data Studio and follow along by clicking play next to each code block (assuming you have the prereqs).\n",
                "\n",
                "Try exploring with Notebooks for your onboarding documentation or troubleshooting guides. If you have other fun usecase for Notebooks-as-a-shell, let me know on Twitter!"
            ],
            "metadata": {
                "azdata_cell_guid": "920ad871-9c1a-49f5-90d2-e51d93511d99"
            }
        }
    ]
}