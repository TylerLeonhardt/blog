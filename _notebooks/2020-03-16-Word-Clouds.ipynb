{
 "cells": [
  {
   "cell_type": "markdown",
   "metadata": {},
   "source": [
    "# Messing with WordClouds using PowerShell\n",
    "> An example of creating and rendering word clouds in .NET Interative leveraging PowerShell and Markdown.\n",
    "\n",
    "- toc: true \n",
    "- badges: true\n",
    "- comments: true\n",
    "- image: /blog/images/copied_from_nb/dotnet-interactive.svg\n",
    "- categories: [jupyter, powershell, pswordcloud]"
   ]
  },
  {
   "cell_type": "markdown",
   "metadata": {},
   "source": [
    "## Install [PSWordCloud](https://github.com/vexx32/PSWordCloud) by [@vexx32](https://twitter.com/vexx32)"
   ]
  },
  {
   "cell_type": "code",
   "execution_count": 1,
   "metadata": {},
   "outputs": [
    {
     "data": {
      "text/plain": []
     },
     "metadata": {},
     "output_type": "display_data"
    }
   ],
   "source": [
    "Install-Module PSWordCloud -Force"
   ]
  },
  {
   "cell_type": "markdown",
   "metadata": {},
   "source": [
    "Grab the .NET Interactive codebase, extract the zip and delete it:"
   ]
  },
  {
   "cell_type": "code",
   "execution_count": 60,
   "metadata": {},
   "outputs": [
    {
     "data": {
      "text/plain": []
     },
     "metadata": {},
     "output_type": "display_data"
    }
   ],
   "source": [
    "irm https://api.github.com/repos/dotnet/interactive/zipball -OutFile interactive.zip\n",
    "try {\n",
    "    Expand-Archive ./interactive.zip -Force\n",
    "} finally {\n",
    "    Remove-Item ./interactive.zip\n",
    "}"
   ]
  },
  {
   "cell_type": "markdown",
   "metadata": {},
   "source": [
    "Get all of the files from the interactive folder, read their contents and craft a word cloud with it."
   ]
  },
  {
   "cell_type": "code",
   "execution_count": 61,
   "metadata": {},
   "outputs": [
    {
     "data": {
      "text/plain": []
     },
     "metadata": {},
     "output_type": "display_data"
    }
   ],
   "source": [
    "gci -Recurse -File ./interactive/ | gc | New-WordCloud -Path ./dotnet-interactive.svg"
   ]
  },
  {
   "cell_type": "markdown",
   "metadata": {},
   "source": [
    "Leveraging the `#!markdown` magic command, we can render our new SVG:",
    "\n",
    "> NOTE: My blog mangles this path for some reason... the actual 'path' should just be `dotnet-interactive.svg`"
   ]
  },
  {
   "cell_type": "code",
   "execution_count": 62,
   "metadata": {},
   "outputs": [
    {
     "data": {
      "text/html": [
       "<p><img src=\"/blog/images/copied_from_nb/dotnet-interactive.svg\" alt=\"\" /></p>\n"
      ]
     },
     "metadata": {},
     "output_type": "display_data"
    }
   ],
   "source": [
    "#!markdown\n",
    "\n",
    "![.NET Interactive codebase word cloud](dotnet-interactive.svg)"
   ]
  },
  {
   "cell_type": "code",
   "execution_count": null,
   "metadata": {},
   "outputs": [],
   "source": []
  }
 ],
 "metadata": {
  "kernelspec": {
   "display_name": ".NET (PowerShell)",
   "language": "PowerShell",
   "name": ".net-powershell"
  },
  "language_info": {
   "file_extension": ".ps1",
   "mimetype": "text/x-powershell",
   "name": "PowerShell",
   "pygments_lexer": "powershell",
   "version": "7.0"
  }
 },
 "nbformat": 4,
 "nbformat_minor": 4
}
