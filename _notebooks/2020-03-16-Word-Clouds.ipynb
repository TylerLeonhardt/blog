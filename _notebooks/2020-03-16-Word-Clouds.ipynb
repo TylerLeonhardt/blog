{
 "cells": [
  {
   "cell_type": "markdown",
   "metadata": {},
   "source": [
    "# Messing with WordClouds using PowerShell\n",
    "> An example of creating and rendering word clouds in .NET Interative leveraging PowerShell and Markdown.\n",
    "\n",
    "- toc: false \n",
    "- badges: true\n",
    "- comments: true\n",
    "- image: images/copied_from_nb/dotnet-interactive.svg\n",
    "- categories: [jupyter, powershell, pswordcloud]"
   ]
  },
  {
   "cell_type": "markdown",
   "metadata": {},
   "source": [
    "## Install [PSWordCloud](https://github.com/vexx32/PSWordCloud) by [@vexx32](https://twitter.com/vexx32)"
   ]
  },
  {
   "cell_type": "code",
   "execution_count": 1,
   "metadata": {},
   "outputs": [
    {
     "data": {
      "text/plain": []
     },
     "metadata": {},
     "output_type": "display_data"
    }
   ],
   "source": [
    "Install-Module PSWordCloud -Force"
   ]
  },
  {
   "cell_type": "markdown",
   "metadata": {},
   "source": [
    "Grab the .NET Interactive codebase, extract the zip and delete it:"
   ]
  },
  {
   "cell_type": "code",
   "execution_count": 60,
   "metadata": {},
   "outputs": [
    {
     "data": {
      "text/plain": []
     },
     "metadata": {},
     "output_type": "display_data"
    }
   ],
   "source": [
    "irm https://api.github.com/repos/dotnet/interactive/zipball -OutFile interactive.zip\n",
    "try {\n",
    "    Expand-Archive ./interactive.zip -Force\n",
    "} finally {\n",
    "    Remove-Item ./interactive.zip\n",
    "}"
   ]
  },
  {
   "cell_type": "markdown",
   "metadata": {},
   "source": [
    "Get all of the files from the interactive folder, read their contents and craft a word cloud with it."
   ]
  },
  {
   "cell_type": "code",
   "execution_count": 61,
   "metadata": {},
   "outputs": [
    {
     "data": {
      "text/plain": []
     },
     "metadata": {},
     "output_type": "display_data"
    }
   ],
   "source": [
    "gci -Recurse -File ./interactive/ | gc | New-WordCloud -Path ./dotnet-interactive.svg"
   ]
  },
  {
   "cell_type": "markdown",
   "metadata": {},
   "source": [
    "`![.NET Interactive codebase word cloud](dotnet-interactive.svg)`"
   ]
  },
  {
   "cell_type": "markdown",
   "metadata": {},
   "source": [
    "![.NET Interactive codebase word cloud](dotnet-interactive.svg)"
   ]
  },
  {
   "cell_type": "code",
   "execution_count": null,
   "metadata": {},
   "outputs": [],
   "source": []
  }
 ],
 "metadata": {
  "kernelspec": {
   "display_name": "Python 3",
   "language": "python",
   "name": "python3"
  },
  "language_info": {
   "codemirror_mode": {
    "name": "ipython",
    "version": 3
   },
   "file_extension": ".py",
   "mimetype": "text/x-python",
   "name": "python",
   "nbconvert_exporter": "python",
   "pygments_lexer": "ipython3",
   "version": "3.6.3"
  }
 },
 "nbformat": 4,
 "nbformat_minor": 4
}
