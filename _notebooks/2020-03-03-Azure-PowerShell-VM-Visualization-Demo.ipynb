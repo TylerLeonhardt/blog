{
 "cells": [
  {
   "cell_type": "markdown",
   "metadata": {},
   "source": [
    "# Azure PowerShell VM Visualization demo\n",
    "> A Notebook mixing Azure PowerShell and Plotly\n",
    "\n",
    "## Prerequisites\n",
    "\n",
    "### Install required modules\n",
    "\n",
    "You'll need to install `Az.Compute` and `Az.Resources` for this Notebook."
   ]
  },
  {
   "cell_type": "code",
   "execution_count": 1,
   "metadata": {},
   "outputs": [
    {
     "data": {
      "text/plain": []
     },
     "metadata": {},
     "output_type": "display_data"
    }
   ],
   "source": [
    "Install-Module Az.Compute,Az.Resources -Force"
   ]
  },
  {
   "cell_type": "markdown",
   "metadata": {},
   "source": [
    "### Authenticate and set context\n",
    "\n",
    "First connect to your Azure account."
   ]
  },
  {
   "cell_type": "code",
   "execution_count": 1,
   "metadata": {},
   "outputs": [
    {
     "name": "stdout",
     "output_type": "stream",
     "text": [
      "\u001b[93mWARNING: To sign in, use a web browser to open the page https://microsoft.com/devicelogin and enter the code EGLUE983V to authenticate.\u001b[0m\n",
      "\n",
      "Account                SubscriptionName TenantId                             Environment\n",
      "-------                ---------------- --------                             -----------\n",
      "tyleonha@microsoft.com Thanks Microsoft 72f988bf-86f1-41af-91ab-2d7cd011db47 AzureCloud\n",
      "\n"
     ]
    }
   ],
   "source": [
    "Connect-AzAccount"
   ]
  },
  {
   "cell_type": "markdown",
   "metadata": {},
   "source": [
    "**(Optional)** If your account contains more than one active subscription the first one will be selected for further use. To select another subscription, use Set-AzContext."
   ]
  },
  {
   "cell_type": "code",
   "execution_count": null,
   "metadata": {},
   "outputs": [],
   "source": [
    "Set-AzContext -Subscription \"My Subscription\""
   ]
  },
  {
   "cell_type": "markdown",
   "metadata": {},
   "source": [
    "### (Optional) Populate Azure with test VMs\n",
    "\n",
    "Here's a script that will create a number of VMs. Feel free to change the value at the top.\n",
    "\n",
    "> NOTE: This can take a LONG time."
   ]
  },
  {
   "cell_type": "code",
   "execution_count": 2,
   "metadata": {},
   "outputs": [
    {
     "name": "stdout",
     "output_type": "stream",
     "text": [
      "\n",
      "\u001b[95mPowerShell credential request\u001b[0m\n",
      "Enter your credentials.\n"
     ]
    },
    {
     "name": "stdin",
     "output_type": "stream",
     "text": [
      "User:  azureuser\n",
      "Password for user azureuser:  ·····················\n"
     ]
    },
    {
     "name": "stdout",
     "output_type": "stream",
     "text": [
      "\n"
     ]
    }
   ],
   "source": [
    "# IMPORTANT VARIABLES\n",
    "$RESOURCE_GROUP_NAME = 'VMVisDemo'\n",
    "$LOCATION = 'East US 2'\n",
    "$NUM_OF_VMs = 10\n",
    "$USER_CREDENTIAL = Get-Credential"
   ]
  },
  {
   "cell_type": "code",
   "execution_count": 4,
   "metadata": {},
   "outputs": [
    {
     "name": "stdout",
     "output_type": "stream",
     "text": [
      "Creting resource group.\n",
      "Creting VMs.\n",
      "Done!\n"
     ]
    }
   ],
   "source": [
    "Write-Host \"Creting resource group.\"\n",
    "New-AzResourceGroup -Name $RESOURCE_GROUP_NAME -Location $LOCATION | Out-Null\n",
    "\n",
    "Write-Host \"Creting VMs.\"\n",
    "$jobs = 1..$NUM_OF_VMs | ForEach-Object {\n",
    "    $splat = @{\n",
    "        Image = \"UbuntuLTS\"\n",
    "        Location = $LOCATION\n",
    "        Name = \"MyVM-$_\"\n",
    "        ResourceGroupName = $RESOURCE_GROUP_NAME\n",
    "        Credential = $USER_CREDENTIAL\n",
    "        AsJob = $true\n",
    "    }\n",
    "    New-AzVM @splat\n",
    "}\n",
    "\n",
    "# Wait for them to all be created\n",
    "Wait-Job $jobs | Out-Null\n",
    "\"Done!\""
   ]
  },
  {
   "cell_type": "markdown",
   "metadata": {},
   "source": [
    "Now we need to randomly stop a number of them so that the graph below has some variance."
   ]
  },
  {
   "cell_type": "code",
   "execution_count": 5,
   "metadata": {},
   "outputs": [
    {
     "name": "stdout",
     "output_type": "stream",
     "text": [
      "Randomly stoping 4 VMs.\n",
      "Done!\n"
     ]
    }
   ],
   "source": [
    "$numOfVMsToStop = Get-Random -Minimum 2 -Maximum $NUM_OF_VMs\n",
    "Write-Host \"Randomly stoping $numOfVMsToStop VMs.\"\n",
    "\n",
    "$vms = Get-AzVM -ResourceGroupName $RESOURCE_GROUP_NAME\n",
    "$jobs = for ($i = 0; $i -lt $numOfVMsToStop; $i++) {\n",
    "    $vms | Get-Random | Stop-AzVM -Force -AsJob\n",
    "}\n",
    "\n",
    "Wait-Job $jobs | Out-Null\n",
    "\n",
    "Write-Host \"Done!\""
   ]
  },
  {
   "cell_type": "markdown",
   "metadata": {},
   "source": [
    "**Cleanup** - If you wanna clean up these test VMs. Run this:\n",
    "\n",
    "> NOTE: This can take a LONG time."
   ]
  },
  {
   "cell_type": "code",
   "execution_count": null,
   "metadata": {},
   "outputs": [],
   "source": [
    "Write-Host \"Deleting VMs.\"\n",
    "$jobs = Get-AzVM -ResourceGroupName $RESOURCE_GROUP_NAME | Remove-AzVM -AsJob -Force\n",
    "Wait-Job $jobs | Out-Null\n",
    "\n",
    "Write-Host \"Deleting resource group.\"\n",
    "Remove-AzResourceGroup -ResourceGroupName $RESOURCE_GROUP_NAME -Force | Out-Null\n",
    "\n",
    "Write-Host \"Done!\""
   ]
  },
  {
   "cell_type": "markdown",
   "metadata": {},
   "source": [
    "## Demo\n",
    "\n",
    "We'll be fetching the \"PowerState\" of each of our VMs in Azure and plotting it on a pie chart.\n",
    "\n",
    "First, let's get the data:"
   ]
  },
  {
   "cell_type": "code",
   "execution_count": 6,
   "metadata": {},
   "outputs": [
    {
     "name": "stdout",
     "output_type": "stream",
     "text": [
      "\n",
      "Count Name                      Group\n",
      "----- ----                      -----\n",
      "    7 VM deallocated            {VM deallocated, VM deallocated, VM deallocated, VM deallocated…}\n",
      "   10 VM running                {VM running, VM running, VM running, VM running…}\n",
      "\n"
     ]
    }
   ],
   "source": [
    "$vms = Get-AzVM -Status\n",
    "$data = $vms.PowerState\n",
    "\n",
    "$groupedData = $data | Group-Object\n",
    "$groupedData"
   ]
  },
  {
   "cell_type": "markdown",
   "metadata": {},
   "source": [
    "Now we can render that data into a Pie graph and plot it in a chart:"
   ]
  },
  {
   "cell_type": "code",
   "execution_count": 7,
   "metadata": {},
   "outputs": [
    {
     "data": {
      "text/html": [
       "<div id=\"3e285da6-0c05-457f-92dc-0007cc9b95fd\" style=\"width: 900px; height: 500px;\"></div>\r\n",
       "<script type=\"text/javascript\">\n",
       "\r\n",
       "var renderPlotly = function() {\r\n",
       "    var xplotRequire = requirejs.config({context:'xplot-3.0.1',paths:{plotly:'https://cdn.plot.ly/plotly-1.49.2.min'}});\r\n",
       "    xplotRequire(['plotly'], function(Plotly) {\n",
       "\n",
       "            var data = [{\"type\":\"pie\",\"labels\":[\"VM deallocated\",\"VM running\"],\"values\":[7,10],\"name\":\"VM PowerState\"}];\n",
       "            var layout = {\"title\":\"VM Status\"};\n",
       "            Plotly.newPlot('3e285da6-0c05-457f-92dc-0007cc9b95fd', data, layout);\n",
       "        \n",
       "});\r\n",
       "};\r\n",
       "if ((typeof(requirejs) !==  typeof(Function)) || (typeof(requirejs.config) !== typeof(Function))) { \r\n",
       "    var script = document.createElement(\"script\"); \r\n",
       "    script.setAttribute(\"src\", \"https://cdnjs.cloudflare.com/ajax/libs/require.js/2.3.6/require.min.js\"); \r\n",
       "    script.onload = function(){\r\n",
       "        renderPlotly();\r\n",
       "    };\r\n",
       "    document.getElementsByTagName(\"head\")[0].appendChild(script); \r\n",
       "}\r\n",
       "else {\r\n",
       "    renderPlotly();\r\n",
       "}\n",
       "</script>\n"
      ]
     },
     "metadata": {},
     "output_type": "display_data"
    }
   ],
   "source": [
    "$trace = [Graph.Pie]@{\n",
    "    name = \"VM PowerState\"\n",
    "    labels = $groupedData.Name\n",
    "    values = [int[]]($groupedData | % Count)\n",
    "}\n",
    "\n",
    "New-PlotlyChart -Title \"VM Status\" -Trace $trace | Out-Display"
   ]
  },
  {
   "cell_type": "code",
   "execution_count": null,
   "metadata": {},
   "outputs": [],
   "source": []
  }
 ],
 "metadata": {
  "kernelspec": {
   "display_name": ".NET (PowerShell)",
   "language": "PowerShell",
   "name": ".net-powershell"
  },
  "language_info": {
   "file_extension": ".ps1",
   "mimetype": "text/x-powershell",
   "name": "PowerShell",
   "pygments_lexer": "powershell",
   "version": "7.0"
  }
 },
 "nbformat": 4,
 "nbformat_minor": 4
}
